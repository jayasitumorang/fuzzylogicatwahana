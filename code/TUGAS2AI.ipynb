{
  "nbformat": 4,
  "nbformat_minor": 0,
  "metadata": {
    "colab": {
      "name": "TUGAS2AI.ipynb",
      "provenance": [],
      "collapsed_sections": []
    },
    "kernelspec": {
      "name": "python3",
      "display_name": "Python 3"
    },
    "language_info": {
      "name": "python"
    }
  },
  "cells": [
    {
      "cell_type": "code",
      "metadata": {
        "id": "qkvRTkerEGkg"
      },
      "source": [
        "\n",
        "import pandas as pd\n",
        "import numpy as np\n",
        "import matplotlib.pyplot as plt"
      ],
      "execution_count": 15,
      "outputs": []
    },
    {
      "cell_type": "code",
      "metadata": {
        "colab": {
          "base_uri": "https://localhost:8080/",
          "height": 399
        },
        "id": "XA2pUY-0EHso",
        "outputId": "6a1d1ccd-b0c5-4d9c-fda3-01410204689d"
      },
      "source": [
        "data = pd.read_excel(\"sample_data/wahana.xlsx\")\n",
        "data\n"
      ],
      "execution_count": 16,
      "outputs": [
        {
          "output_type": "execute_result",
          "data": {
            "text/html": [
              "<div>\n",
              "<style scoped>\n",
              "    .dataframe tbody tr th:only-of-type {\n",
              "        vertical-align: middle;\n",
              "    }\n",
              "\n",
              "    .dataframe tbody tr th {\n",
              "        vertical-align: top;\n",
              "    }\n",
              "\n",
              "    .dataframe thead th {\n",
              "        text-align: right;\n",
              "    }\n",
              "</style>\n",
              "<table border=\"1\" class=\"dataframe\">\n",
              "  <thead>\n",
              "    <tr style=\"text-align: right;\">\n",
              "      <th></th>\n",
              "      <th>id</th>\n",
              "      <th>pelayanan</th>\n",
              "      <th>wahana</th>\n",
              "    </tr>\n",
              "  </thead>\n",
              "  <tbody>\n",
              "    <tr>\n",
              "      <th>0</th>\n",
              "      <td>1</td>\n",
              "      <td>11</td>\n",
              "      <td>4</td>\n",
              "    </tr>\n",
              "    <tr>\n",
              "      <th>1</th>\n",
              "      <td>2</td>\n",
              "      <td>2</td>\n",
              "      <td>4</td>\n",
              "    </tr>\n",
              "    <tr>\n",
              "      <th>2</th>\n",
              "      <td>3</td>\n",
              "      <td>44</td>\n",
              "      <td>5</td>\n",
              "    </tr>\n",
              "    <tr>\n",
              "      <th>3</th>\n",
              "      <td>4</td>\n",
              "      <td>14</td>\n",
              "      <td>2</td>\n",
              "    </tr>\n",
              "    <tr>\n",
              "      <th>4</th>\n",
              "      <td>5</td>\n",
              "      <td>50</td>\n",
              "      <td>10</td>\n",
              "    </tr>\n",
              "    <tr>\n",
              "      <th>...</th>\n",
              "      <td>...</td>\n",
              "      <td>...</td>\n",
              "      <td>...</td>\n",
              "    </tr>\n",
              "    <tr>\n",
              "      <th>95</th>\n",
              "      <td>96</td>\n",
              "      <td>96</td>\n",
              "      <td>2</td>\n",
              "    </tr>\n",
              "    <tr>\n",
              "      <th>96</th>\n",
              "      <td>97</td>\n",
              "      <td>2</td>\n",
              "      <td>3</td>\n",
              "    </tr>\n",
              "    <tr>\n",
              "      <th>97</th>\n",
              "      <td>98</td>\n",
              "      <td>84</td>\n",
              "      <td>9</td>\n",
              "    </tr>\n",
              "    <tr>\n",
              "      <th>98</th>\n",
              "      <td>99</td>\n",
              "      <td>50</td>\n",
              "      <td>8</td>\n",
              "    </tr>\n",
              "    <tr>\n",
              "      <th>99</th>\n",
              "      <td>100</td>\n",
              "      <td>1</td>\n",
              "      <td>3</td>\n",
              "    </tr>\n",
              "  </tbody>\n",
              "</table>\n",
              "<p>100 rows × 3 columns</p>\n",
              "</div>"
            ],
            "text/plain": [
              "     id  pelayanan  wahana\n",
              "0     1         11       4\n",
              "1     2          2       4\n",
              "2     3         44       5\n",
              "3     4         14       2\n",
              "4     5         50      10\n",
              "..  ...        ...     ...\n",
              "95   96         96       2\n",
              "96   97          2       3\n",
              "97   98         84       9\n",
              "98   99         50       8\n",
              "99  100          1       3\n",
              "\n",
              "[100 rows x 3 columns]"
            ]
          },
          "metadata": {
            "tags": []
          },
          "execution_count": 16
        }
      ]
    },
    {
      "cell_type": "code",
      "metadata": {
        "id": "LFEBmLuYEKuH"
      },
      "source": [
        "def wahanajelek(f):\n",
        "    wahanajelek, notwahanajelek = 4, 6\n",
        "\n",
        "    if f <= wahanajelek:\n",
        "        return 1\n",
        "    elif f > notwahanajelek:\n",
        "        return 0\n",
        "    elif f > wahanajelek and f <= notwahanajelek:\n",
        "        return ((notwahanajelek - f) / (notwahanajelek - wahanajelek))\n",
        "\n",
        "\n",
        "def wahanabagus(f):\n",
        "    notwahanabagus1, wahanabagus1, wahanabagus2, notwahanabagus2 = 4, 6, 7, 9\n",
        "\n",
        "    if f > wahanabagus1 and f <= wahanabagus2:\n",
        "        return 1\n",
        "    elif f <= notwahanabagus1 or f > notwahanabagus2:\n",
        "        return 0\n",
        "    elif f > notwahanabagus1 and f <= wahanabagus1:\n",
        "        return ((f - notwahanabagus1) / (wahanabagus1 - notwahanabagus1))\n",
        "    elif f > wahanabagus2 and f <= notwahanabagus2:\n",
        "        return ((notwahanabagus2 - f) / (notwahanabagus2 - wahanabagus2))\n",
        "\n",
        "\n",
        "def wahanaluarbiasa(f):\n",
        "    notwahanaluarbiasa, wahanaluarbiasa = 6, 8\n",
        "\n",
        "    if f > wahanaluarbiasa:\n",
        "        return 1\n",
        "    elif f <= notwahanaluarbiasa:\n",
        "        return 0\n",
        "    elif f > notwahanaluarbiasa and f <= wahanaluarbiasa:\n",
        "        return ((f - notwahanaluarbiasa) / (wahanaluarbiasa - notwahanaluarbiasa))"
      ],
      "execution_count": 17,
      "outputs": []
    },
    {
      "cell_type": "code",
      "metadata": {
        "colab": {
          "base_uri": "https://localhost:8080/",
          "height": 318
        },
        "id": "ZlWG2ldIER63",
        "outputId": "c7147201-c30e-4f84-f346-e825c6da0eed"
      },
      "source": [
        "# plot grafik membership wahana\n",
        "\n",
        "x = [i for i in range(11)]\n",
        "\n",
        "ypoorw = [wahanajelek(i) for i in x]\n",
        "ygoodw = [wahanabagus(i) for i in x]\n",
        "yexcellentw = [wahanaluarbiasa(i) for i in x]\n",
        "\n",
        "plt.figure(figsize=(10,4))\n",
        "plt.title('Membership wahana',fontsize = 20) \n",
        "plt.plot(x, ypoorw, label = 'wahana jelek')\n",
        "plt.plot(x, ygoodw, label = 'wahana bagus')\n",
        "plt.plot(x, yexcellentw, label = 'wahana luar biasa')\n",
        "plt.xlabel('Nilai')\n",
        "plt.ylabel(r'$\\mu\\ (x)$')\n",
        "plt.legend()"
      ],
      "execution_count": 18,
      "outputs": [
        {
          "output_type": "execute_result",
          "data": {
            "text/plain": [
              "<matplotlib.legend.Legend at 0x7f94d4d9d850>"
            ]
          },
          "metadata": {
            "tags": []
          },
          "execution_count": 18
        },
        {
          "output_type": "display_data",
          "data": {
            "image/png": "[encoded data removed]",
            "text/plain": [
              "<Figure size 720x288 with 1 Axes>"
            ]
          },
          "metadata": {
            "tags": [],
            "needs_background": "light"
          }
        }
      ]
    },
    {
      "cell_type": "code",
      "metadata": {
        "id": "WodGkCnzEUMt"
      },
      "source": [
        "def pelayananjelek(x):\n",
        "  pelayananjelek = 50\n",
        "  notpelayananjelek = 67\n",
        "\n",
        "  if x <= pelayananjelek:\n",
        "    return 1;\n",
        "  elif x > notpelayananjelek:\n",
        "    return 0\n",
        "  elif x > pelayananjelek and x <= notpelayananjelek:\n",
        "    return (notpelayananjelek - x) / (notpelayananjelek - pelayananjelek)\n",
        "\n",
        "def pelayananbagus(x):\n",
        "  notpelayananbagus1 = 50\n",
        "  pelayananbagus1 = 60\n",
        "  pelayananbagus2 = 70\n",
        "  notpelayananbagus2 = 85\n",
        "\n",
        "  if x > pelayananbagus1 and x <= pelayananbagus2:\n",
        "    return 1\n",
        "  elif x <= notpelayananbagus1 or x > notpelayananbagus2:\n",
        "    return 0\n",
        "  elif x > notpelayananbagus1 and x <= pelayananbagus1:\n",
        "    return (x - notpelayananbagus1) / (pelayananbagus1 - notpelayananbagus1)\n",
        "  elif x > pelayananbagus2 and x <= notpelayananbagus2:\n",
        "    return (notpelayananbagus2 - x) / (notpelayananbagus2 - pelayananbagus2)\n",
        "\n",
        "def pelayananluarbiasa(x):\n",
        "  notpelayananluarbiasa = 75\n",
        "  pelayananluarbiasa = 80\n",
        "\n",
        "  if x > pelayananluarbiasa:\n",
        "    return 1\n",
        "  elif x <= notpelayananluarbiasa:\n",
        "    return 0\n",
        "  elif x > notpelayananluarbiasa and x <= pelayananluarbiasa:\n",
        "    return (x - notpelayananluarbiasa) / (pelayananluarbiasa - notpelayananluarbiasa)"
      ],
      "execution_count": 19,
      "outputs": []
    },
    {
      "cell_type": "code",
      "metadata": {
        "colab": {
          "base_uri": "https://localhost:8080/",
          "height": 318
        },
        "id": "MaX47hVpEajN",
        "outputId": "0f96d500-c578-4fd5-ae47-b7f546cab1c9"
      },
      "source": [
        "# plot grafik membership pelayanan\n",
        "\n",
        "x = [i for i in range(101)]\n",
        "\n",
        "ypoorS = [pelayananjelek(i) for i in x]\n",
        "ygoodS = [pelayananbagus(i) for i in x]\n",
        "yexcellentS = [pelayananbagus(i) for i in x]\n",
        "\n",
        "plt.figure(figsize=(10,4))\n",
        "plt.title('Membership Pelayanan',fontsize = 20) \n",
        "plt.plot(x, ypoorS, label = 'layanan jelek')\n",
        "plt.plot(x, ygoodS, label = 'layanan bagus')\n",
        "plt.plot(x, yexcellentS, label = 'layanan luar biasa')\n",
        "plt.xlabel('Nilai')\n",
        "plt.ylabel(r'$\\mu\\ (x)$')\n",
        "plt.legend()"
      ],
      "execution_count": 20,
      "outputs": [
        {
          "output_type": "execute_result",
          "data": {
            "text/plain": [
              "<matplotlib.legend.Legend at 0x7f94d4c7f410>"
            ]
          },
          "metadata": {
            "tags": []
          },
          "execution_count": 20
        },
        {
          "output_type": "display_data",
          "data": {
            "image/png": "[encoded data removed]",
            "text/plain": [
              "<Figure size 720x288 with 1 Axes>"
            ]
          },
          "metadata": {
            "tags": [],
            "needs_background": "light"
          }
        }
      ]
    },
    {
      "cell_type": "code",
      "metadata": {
        "id": "SgaID4CEEbcH"
      },
      "source": [
        "def fuzzificationwahana(wahanaValue):\n",
        "  wahanaset = []\n",
        "  wahanaset.append(wahanajelek(wahanaValue))\n",
        "  wahanaset.append(wahanabagus(wahanaValue))\n",
        "  wahanaset.append(wahanaluarbiasa(wahanaValue))\n",
        "  return wahanaset\n",
        "\n",
        "def fuzzificationpelayanan(pelayananValue):\n",
        "  pelayananSet = []\n",
        "  pelayananSet.append(pelayananjelek(pelayananValue))\n",
        "  pelayananSet.append(pelayananbagus(pelayananValue))\n",
        "  pelayananSet.append(pelayananbagus(pelayananValue))\n",
        "  return pelayananSet"
      ],
      "execution_count": 21,
      "outputs": []
    },
    {
      "cell_type": "code",
      "metadata": {
        "id": "OQwyqZxpEbYv"
      },
      "source": [
        "def inference(pelayananSet, wahanaset):\n",
        "  inferenceSet = []\n",
        "  recommendedSet, moderatelySet, notRecommendedSet = [], [], []\n",
        "\n",
        "  recommendedSet.append(min(wahanaset[2], pelayananSet[2]))\n",
        "  recommendedSet.append(min(wahanaset[2], pelayananSet[1]))\n",
        "  recommendedSet.append(min(wahanaset[1], pelayananSet[2]))\n",
        "  \n",
        "\n",
        "  moderatelySet.append(min(wahanaset[1], pelayananSet[1]))\n",
        "  moderatelySet.append(min(wahanaset[2], pelayananSet[0]))\n",
        "\n",
        "  notRecommendedSet.append(min(wahanaset[0], pelayananSet[0]))\n",
        "  notRecommendedSet.append(min(wahanaset[1], pelayananSet[0]))\n",
        "  notRecommendedSet.append(min(wahanaset[0], pelayananSet[1]))\n",
        "  notRecommendedSet.append(min(wahanaset[0], pelayananSet[2]))\n",
        "\n",
        "  inferenceSet.append(max(recommendedSet))\n",
        "  inferenceSet.append(max(moderatelySet))\n",
        "  inferenceSet.append(max(notRecommendedSet))\n",
        "  \n",
        "  return inferenceSet"
      ],
      "execution_count": 22,
      "outputs": []
    },
    {
      "cell_type": "code",
      "metadata": {
        "id": "C-3Ok6EWEbWW"
      },
      "source": [
        "\n",
        "def defuzzification(inferenceSet):\n",
        "  multiplier = (inferenceSet[0]*100) + (inferenceSet[1]*80) + (inferenceSet[2]*50) \n",
        "  divider = inferenceSet[0] + inferenceSet[1] + inferenceSet[2]\n",
        "  if divider != 0:\n",
        "    return multiplier / divider\n",
        "  else:\n",
        "   return multiplier\n",
        "  "
      ],
      "execution_count": 23,
      "outputs": []
    },
    {
      "cell_type": "code",
      "metadata": {
        "colab": {
          "base_uri": "https://localhost:8080/",
          "height": 318
        },
        "id": "z220C8ekEbTm",
        "outputId": "0eda2de0-6641-4a42-fcac-cb1f7617558e"
      },
      "source": [
        "xnotRecommended = [50,50]\n",
        "xmoderately = [80,80]\n",
        "xRecommended = [100,100]\n",
        "\n",
        "y = [0,1]\n",
        "\n",
        "plt.figure(figsize=(10,4))\n",
        "plt.title('Defuzzifikasi',fontsize = 20)\n",
        "plt.plot(xnotRecommended,y,label='not Recommended')\n",
        "plt.plot(xmoderately,y,label='Moderately')\n",
        "plt.plot(xRecommended,y,label='Recommended')\n",
        "plt.xlabel('Nilai')\n",
        "plt.ylabel(r'$\\mu\\ output$')\n",
        "plt.legend()"
      ],
      "execution_count": 24,
      "outputs": [
        {
          "output_type": "execute_result",
          "data": {
            "text/plain": [
              "<matplotlib.legend.Legend at 0x7f94d4c0a290>"
            ]
          },
          "metadata": {
            "tags": []
          },
          "execution_count": 24
        },
        {
          "output_type": "display_data",
          "data": {
            "image/png": "[encoded data removed]",
            "text/plain": [
              "<Figure size 720x288 with 1 Axes>"
            ]
          },
          "metadata": {
            "tags": [],
            "needs_background": "light"
          }
        }
      ]
    },
    {
      "cell_type": "code",
      "metadata": {
        "colab": {
          "base_uri": "https://localhost:8080/",
          "height": 340
        },
        "id": "XnJ8sRCmEbRH",
        "outputId": "f9d3a15c-df9a-4dbc-c676-28670eb58a5e"
      },
      "source": [
        "hasilAkhir = []\n",
        "for row in range(100):\n",
        "  fuzzipelayanan = fuzzificationpelayanan(data['pelayanan'][row])\n",
        "  fuzziWahana = fuzzificationwahana(data['wahana'][row])\n",
        "  inferensi = inference(fuzzipelayanan,fuzziWahana)\n",
        "  hasilAkhir.extend([defuzzification(inferensi)])\n",
        " \n",
        "data['hasil'] = hasilAkhir\n",
        "data = data.sort_values(by='hasil', ascending=False)[:10]\n",
        "data['id'].to_excel('peringkat.xls', index=False, header=False)\n",
        "\n",
        "data"
      ],
      "execution_count": 25,
      "outputs": [
        {
          "output_type": "execute_result",
          "data": {
            "text/html": [
              "<div>\n",
              "<style scoped>\n",
              "    .dataframe tbody tr th:only-of-type {\n",
              "        vertical-align: middle;\n",
              "    }\n",
              "\n",
              "    .dataframe tbody tr th {\n",
              "        vertical-align: top;\n",
              "    }\n",
              "\n",
              "    .dataframe thead th {\n",
              "        text-align: right;\n",
              "    }\n",
              "</style>\n",
              "<table border=\"1\" class=\"dataframe\">\n",
              "  <thead>\n",
              "    <tr style=\"text-align: right;\">\n",
              "      <th></th>\n",
              "      <th>id</th>\n",
              "      <th>pelayanan</th>\n",
              "      <th>wahana</th>\n",
              "      <th>hasil</th>\n",
              "    </tr>\n",
              "  </thead>\n",
              "  <tbody>\n",
              "    <tr>\n",
              "      <th>97</th>\n",
              "      <td>98</td>\n",
              "      <td>84</td>\n",
              "      <td>9</td>\n",
              "      <td>100.000000</td>\n",
              "    </tr>\n",
              "    <tr>\n",
              "      <th>41</th>\n",
              "      <td>42</td>\n",
              "      <td>75</td>\n",
              "      <td>9</td>\n",
              "      <td>100.000000</td>\n",
              "    </tr>\n",
              "    <tr>\n",
              "      <th>72</th>\n",
              "      <td>73</td>\n",
              "      <td>65</td>\n",
              "      <td>10</td>\n",
              "      <td>97.894737</td>\n",
              "    </tr>\n",
              "    <tr>\n",
              "      <th>78</th>\n",
              "      <td>79</td>\n",
              "      <td>61</td>\n",
              "      <td>10</td>\n",
              "      <td>94.782609</td>\n",
              "    </tr>\n",
              "    <tr>\n",
              "      <th>47</th>\n",
              "      <td>48</td>\n",
              "      <td>59</td>\n",
              "      <td>10</td>\n",
              "      <td>93.133047</td>\n",
              "    </tr>\n",
              "    <tr>\n",
              "      <th>52</th>\n",
              "      <td>53</td>\n",
              "      <td>81</td>\n",
              "      <td>8</td>\n",
              "      <td>90.000000</td>\n",
              "    </tr>\n",
              "    <tr>\n",
              "      <th>90</th>\n",
              "      <td>91</td>\n",
              "      <td>8</td>\n",
              "      <td>10</td>\n",
              "      <td>80.000000</td>\n",
              "    </tr>\n",
              "    <tr>\n",
              "      <th>4</th>\n",
              "      <td>5</td>\n",
              "      <td>50</td>\n",
              "      <td>10</td>\n",
              "      <td>80.000000</td>\n",
              "    </tr>\n",
              "    <tr>\n",
              "      <th>32</th>\n",
              "      <td>33</td>\n",
              "      <td>39</td>\n",
              "      <td>10</td>\n",
              "      <td>80.000000</td>\n",
              "    </tr>\n",
              "    <tr>\n",
              "      <th>14</th>\n",
              "      <td>15</td>\n",
              "      <td>48</td>\n",
              "      <td>9</td>\n",
              "      <td>80.000000</td>\n",
              "    </tr>\n",
              "  </tbody>\n",
              "</table>\n",
              "</div>"
            ],
            "text/plain": [
              "    id  pelayanan  wahana       hasil\n",
              "97  98         84       9  100.000000\n",
              "41  42         75       9  100.000000\n",
              "72  73         65      10   97.894737\n",
              "78  79         61      10   94.782609\n",
              "47  48         59      10   93.133047\n",
              "52  53         81       8   90.000000\n",
              "90  91          8      10   80.000000\n",
              "4    5         50      10   80.000000\n",
              "32  33         39      10   80.000000\n",
              "14  15         48       9   80.000000"
            ]
          },
          "metadata": {
            "tags": []
          },
          "execution_count": 25
        }
      ]
    },
    {
      "cell_type": "code",
      "metadata": {
        "id": "4b3Vu2sHEpW3"
      },
      "source": [
        ""
      ],
      "execution_count": 25,
      "outputs": []
    }
  ]
}